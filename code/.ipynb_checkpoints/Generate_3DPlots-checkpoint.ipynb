{
 "cells": [
  {
   "cell_type": "code",
   "execution_count": 1,
   "metadata": {},
   "outputs": [
    {
     "data": {
      "text/html": [
       "        <script type=\"text/javascript\">\n",
       "        window.PlotlyConfig = {MathJaxConfig: 'local'};\n",
       "        if (window.MathJax) {MathJax.Hub.Config({SVG: {font: \"STIX-Web\"}});}\n",
       "        if (typeof require !== 'undefined') {\n",
       "        require.undef(\"plotly\");\n",
       "        requirejs.config({\n",
       "            paths: {\n",
       "                'plotly': ['https://cdn.plot.ly/plotly-latest.min']\n",
       "            }\n",
       "        });\n",
       "        require(['plotly'], function(Plotly) {\n",
       "            window._Plotly = Plotly;\n",
       "        });\n",
       "        }\n",
       "        </script>\n",
       "        "
      ]
     },
     "metadata": {},
     "output_type": "display_data"
    }
   ],
   "source": [
    "import pandas as pd\n",
    "import numpy as np\n",
    "import pickle\n",
    "import time\n",
    "import matplotlib.colors as clr\n",
    "import seaborn as sns\n",
    "import plotly.graph_objs as go\n",
    "from plotly.offline import download_plotlyjs, init_notebook_mode, plot, iplot, plot_mpl\n",
    "init_notebook_mode(connected=True)\n",
    "import matplotlib.pyplot as plt\n",
    "from rdkit.Chem.Draw import IPythonConsole\n",
    "from rdkit.Chem import PandasTools\n",
    "from rdkit.Chem import Draw"
   ]
  },
  {
   "cell_type": "markdown",
   "metadata": {},
   "source": [
    "Giulia Menichetti menicgiulia@gmail.com"
   ]
  },
  {
   "cell_type": "markdown",
   "metadata": {},
   "source": [
    "# Import Data for Experimental Outcomes"
   ]
  },
  {
   "cell_type": "code",
   "execution_count": 2,
   "metadata": {},
   "outputs": [],
   "source": [
    "specifics='Jaccard_Binary_8192b_R3'\n",
    "viz_data = pd.read_pickle('../data/Broad_Outcomes_Keys_with_fingerprint_embedding'+specifics+'.pkl')\n",
    "# same data in 'data3Dspace.csv'"
   ]
  },
  {
   "cell_type": "markdown",
   "metadata": {},
   "source": [
    "# Colormap for Experimental Outcomes"
   ]
  },
  {
   "cell_type": "code",
   "execution_count": 3,
   "metadata": {},
   "outputs": [],
   "source": [
    "# colormap\n",
    "cmapdict={'No-Effect': (179/255,226/255,205/255), \n",
    "'Low (25%)': (102/255,194/255,165/255),\n",
    "'Very Weak (35%)': (27/255,158/255,119/255),          \n",
    "'Weak (50%)': (231/255,41/255,138/255),          \n",
    "'Strong (80%)': (117/255,112/255,179/255),          \n",
    "'Cyto':(217/255,95/255,2/255)\n",
    "}\n",
    "ordered_classes = list(cmapdict.keys())\n",
    "\n",
    "\n",
    "# colormap for Plotly\n",
    "cmapdictplotly={k:'rgb'+str(tuple([v*255 for v in cmapdict[k]])) for k in ordered_classes}\n",
    "alphadict={'No-Effect':0.1, \n",
    "'Cyto':0.3,\n",
    "'Low (25%)': 0.3,\n",
    "'Very Weak (35%)': 0.3,          \n",
    "'Weak (50%)': 0.8,   \n",
    "'Strong (80%)':0.8}"
   ]
  },
  {
   "cell_type": "markdown",
   "metadata": {},
   "source": [
    "# HTML file Drug 3D Space with Experimental Classes"
   ]
  },
  {
   "cell_type": "code",
   "execution_count": 5,
   "metadata": {},
   "outputs": [
    {
     "data": {
      "text/plain": [
       "'../figs/Jaccard_Binary_8192b_R3.html'"
      ]
     },
     "execution_count": 5,
     "metadata": {},
     "output_type": "execute_result"
    }
   ],
   "source": [
    "def make_label(row, name='pert_iname'):\n",
    "    return '<br>Name: ' + row[name] \\\n",
    "        + '<br>Outcome: ' + row['Outcome'] \\\n",
    "        + '<br>BroadId: ' + row['truncated_broadid'] \\\n",
    "        + '<br>Smile: ' + row['rdkit_smiles'] \\\n",
    "        + '<br>InChiKey: ' + row['rdkit_InChIKey']\n",
    "\n",
    "traces = []\n",
    "\n",
    "\n",
    "for c in ordered_classes:\n",
    "    traces.append( go.Scatter3d(\n",
    "        x=viz_data[viz_data['Outcome'] == c].coord1.tolist(),\n",
    "        y=viz_data[viz_data['Outcome'] == c].coord2.tolist(),\n",
    "        z=viz_data[viz_data['Outcome'] == c].coord3.tolist(),\n",
    "        mode='markers',\n",
    "        marker=dict(\n",
    "            opacity=alphadict[c],\n",
    "            size=3,\n",
    "            color=cmapdictplotly[c]\n",
    "        ),\n",
    "        name=c,\n",
    "        text=viz_data[viz_data['Outcome'] == c].apply(make_label, axis=1),\n",
    "        hoverinfo='text'\n",
    "    ))\n",
    "    \n",
    "layout = go.Layout(\n",
    "    title=specifics\n",
    ")\n",
    "\n",
    "fig = go.Figure(data=traces, layout=layout)\n",
    "plot(fig, filename = '../figs/'+specifics+'.html', auto_open=True)"
   ]
  },
  {
   "cell_type": "markdown",
   "metadata": {},
   "source": [
    "# Import Data for ATC Codes"
   ]
  },
  {
   "cell_type": "code",
   "execution_count": 7,
   "metadata": {
    "scrolled": true
   },
   "outputs": [],
   "source": [
    "drugclassification=pd.read_csv('../data/drug-enrichment-Strong (80%) Weak (50%)-for3Dspace.tsv', sep='\\t')"
   ]
  },
  {
   "cell_type": "markdown",
   "metadata": {},
   "source": [
    "# Colormap for ATC codes"
   ]
  },
  {
   "cell_type": "code",
   "execution_count": 8,
   "metadata": {
    "scrolled": true
   },
   "outputs": [],
   "source": [
    "# colormap drug classes\n",
    "listcolors=['rgb'+str(tuple([k*255 for k in n])) for n in (plt.get_cmap('Accent').colors[:-1]+plt.get_cmap('Dark2').colors[:-1]+plt.get_cmap('Set1').colors[:-1]+plt.get_cmap('Set2').colors[:-1])]\n",
    "cmapdictplotlyDC={drugclassification['Chemical Group'][k]: listcolors[k] for k in range(len(drugclassification['Chemical Group']))}"
   ]
  },
  {
   "cell_type": "markdown",
   "metadata": {},
   "source": [
    "# HTML file Drug 3D Space with enriched ATC codes"
   ]
  },
  {
   "cell_type": "code",
   "execution_count": 10,
   "metadata": {},
   "outputs": [
    {
     "name": "stdout",
     "output_type": "stream",
     "text": [
      "%%%%%%%%%%%%%%%%%%\n",
      "Benzothiazines\n",
      "Number of Drugs\n",
      "11\n",
      "['K37814297', 'K10995081', 'K89997465', 'A84481105', 'K35559145', 'K54770538', 'K19352500', 'K06980535', 'K69600043', 'K89732114', 'K08619574']\n",
      "%%%%%%%%%%%%%%%%%%\n",
      "%%%%%%%%%%%%%%%%%%\n",
      "Phenothiazines\n",
      "Number of Drugs\n",
      "10\n",
      "['K37814297', 'K10995081', 'K89997465', 'A84481105', 'K35559145', 'K19352500', 'K06980535', 'K69600043', 'K89732114', 'K08619574']\n",
      "%%%%%%%%%%%%%%%%%%\n",
      "%%%%%%%%%%%%%%%%%%\n",
      "Phenothiazines\n",
      "Number of Drugs\n",
      "10\n",
      "['K37814297', 'K10995081', 'K89997465', 'A84481105', 'K35559145', 'K19352500', 'K06980535', 'K69600043', 'K89732114', 'K08619574']\n",
      "%%%%%%%%%%%%%%%%%%\n",
      "%%%%%%%%%%%%%%%%%%\n",
      "Antipsychotic Agents (First Generation [Typical])\n",
      "Number of Drugs\n",
      "8\n",
      "['K10995081', 'K89997465', 'A84481105', 'K35559145', 'K19352500', 'K06980535', 'K89732114', 'K08619574']\n",
      "%%%%%%%%%%%%%%%%%%\n",
      "%%%%%%%%%%%%%%%%%%\n",
      "Phenothiazines\n",
      "Number of Drugs\n",
      "10\n",
      "['K37814297', 'K10995081', 'K89997465', 'A84481105', 'K35559145', 'K19352500', 'K06980535', 'K69600043', 'K89732114', 'K08619574']\n",
      "%%%%%%%%%%%%%%%%%%\n",
      "%%%%%%%%%%%%%%%%%%\n",
      "Neurotoxic Agents\n",
      "Number of Drugs\n",
      "16\n",
      "['K10031916', 'K53737926', 'K37814297', 'K83405785', 'K10995081', 'K38436528', 'K89997465', 'A84481105', 'K35559145', 'K19352500', 'K06980535', 'K69600043', 'K24219278', 'K89732114', 'K12251893', 'K08619574']\n",
      "%%%%%%%%%%%%%%%%%%\n",
      "%%%%%%%%%%%%%%%%%%\n",
      "Level 1: Digitalis Glycosides\n",
      "Number of Drugs\n",
      "2\n",
      "['K99919177', 'K63668566']\n",
      "%%%%%%%%%%%%%%%%%%\n",
      "%%%%%%%%%%%%%%%%%%\n",
      "Level 1: Angiotensin Ii Receptor Blockers (Arbs), Plain\n",
      "Number of Drugs\n",
      "3\n",
      "['K84091759', 'K25723200', 'K45158365']\n",
      "%%%%%%%%%%%%%%%%%%\n",
      "%%%%%%%%%%%%%%%%%%\n",
      "Level 1: Vinca Alkaloids And Analogues\n",
      "Number of Drugs\n",
      "3\n",
      "['K59753975', 'K06519765', 'K12251893']\n",
      "%%%%%%%%%%%%%%%%%%\n",
      "%%%%%%%%%%%%%%%%%%\n",
      "Level 1: Phenothiazines With Piperazine Structure\n",
      "Number of Drugs\n",
      "4\n",
      "['K10995081', 'K19352500', 'K89732114', 'K08619574']\n",
      "%%%%%%%%%%%%%%%%%%\n",
      "%%%%%%%%%%%%%%%%%%\n",
      "Level 1: Angiotensin Ii Receptor Blockers (Arbs) And Diuretics\n",
      "Number of Drugs\n",
      "3\n",
      "['K84091759', 'K25723200', 'K45158365']\n",
      "%%%%%%%%%%%%%%%%%%\n",
      "%%%%%%%%%%%%%%%%%%\n",
      "Level 1: Phenothiazines With Aliphatic Side-Chain\n",
      "Number of Drugs\n",
      "4\n",
      "['K37814297', 'K89997465', 'K35559145', 'K06980535']\n",
      "%%%%%%%%%%%%%%%%%%\n",
      "%%%%%%%%%%%%%%%%%%\n",
      "Level 1: Other Agents Against Amoebiasis And Other Protozoal Diseases\n",
      "Number of Drugs\n",
      "2\n",
      "['K13642819', 'K03067624']\n",
      "%%%%%%%%%%%%%%%%%%\n",
      "%%%%%%%%%%%%%%%%%%\n",
      "Level 1: Selective Serotonin (5Ht1) Agonists\n",
      "Number of Drugs\n",
      "3\n",
      "['K08255599', 'K54314721', 'K30652337']\n",
      "%%%%%%%%%%%%%%%%%%\n",
      "%%%%%%%%%%%%%%%%%%\n",
      "Level 1: Non-Selective Monoamine Reuptake Inhibitors\n",
      "Number of Drugs\n",
      "3\n",
      "['K53737926', 'K38436528', 'K24219278']\n",
      "%%%%%%%%%%%%%%%%%%\n",
      "%%%%%%%%%%%%%%%%%%\n",
      "Level 2: Antimigraine Preparations\n",
      "Number of Drugs\n",
      "3\n",
      "['K08255599', 'K54314721', 'K30652337']\n",
      "%%%%%%%%%%%%%%%%%%\n",
      "%%%%%%%%%%%%%%%%%%\n",
      "Level 2: Antipsychotics\n",
      "Number of Drugs\n",
      "10\n",
      "['K37814297', 'K83405785', 'K10995081', 'K89997465', 'A84481105', 'K35559145', 'K19352500', 'K06980535', 'K89732114', 'K08619574']\n",
      "%%%%%%%%%%%%%%%%%%\n",
      "%%%%%%%%%%%%%%%%%%\n",
      "Level 2: Angiotensin Ii Receptor Blockers (Arbs), Plain\n",
      "Number of Drugs\n",
      "3\n",
      "['K84091759', 'K25723200', 'K45158365']\n",
      "%%%%%%%%%%%%%%%%%%\n",
      "%%%%%%%%%%%%%%%%%%\n",
      "Level 2: Plant Alkaloids And Other Natural Products\n",
      "Number of Drugs\n",
      "3\n",
      "['K59753975', 'K06519765', 'K12251893']\n",
      "%%%%%%%%%%%%%%%%%%\n",
      "%%%%%%%%%%%%%%%%%%\n",
      "Level 2: Angiotensin Ii Receptor Blockers (Arbs), Combinations\n",
      "Number of Drugs\n",
      "3\n",
      "['K84091759', 'K25723200', 'K45158365']\n",
      "%%%%%%%%%%%%%%%%%%\n",
      "%%%%%%%%%%%%%%%%%%\n",
      "Level 2: Antidepressants\n",
      "Number of Drugs\n",
      "6\n",
      "['K53737926', 'K71103788', 'K82036761', 'A19661776', 'K38436528', 'K24219278']\n",
      "%%%%%%%%%%%%%%%%%%\n",
      "%%%%%%%%%%%%%%%%%%\n",
      "Level 2: Cardiac Glycosides\n",
      "Number of Drugs\n",
      "2\n",
      "['K99919177', 'K63668566']\n",
      "%%%%%%%%%%%%%%%%%%\n",
      "%%%%%%%%%%%%%%%%%%\n",
      "Level 2: Agents Against Amoebiasis And Other Protozoal Diseases\n",
      "Number of Drugs\n",
      "2\n",
      "['K13642819', 'K03067624']\n",
      "%%%%%%%%%%%%%%%%%%\n",
      "%%%%%%%%%%%%%%%%%%\n",
      "Level 3: Anthelmintics\n",
      "Number of Drugs\n",
      "3\n",
      "['K35960502', 'K86003836', 'K39120595']\n",
      "%%%%%%%%%%%%%%%%%%\n",
      "%%%%%%%%%%%%%%%%%%\n",
      "Level 3: Psycholeptics\n",
      "Number of Drugs\n",
      "11\n",
      "['K62971431', 'K37814297', 'K83405785', 'K10995081', 'K89997465', 'A84481105', 'K35559145', 'K19352500', 'K06980535', 'K89732114', 'K08619574']\n",
      "%%%%%%%%%%%%%%%%%%\n",
      "%%%%%%%%%%%%%%%%%%\n",
      "Level 4: Antiparasitic Products, Insecticides And Repellents\n",
      "Number of Drugs\n",
      "6\n",
      "['K13642819', 'K03067624', 'K91290917', 'K35960502', 'K86003836', 'K39120595']\n",
      "%%%%%%%%%%%%%%%%%%\n",
      "%%%%%%%%%%%%%%%%%%\n",
      "Level 4: Nervous System\n",
      "Number of Drugs\n",
      "25\n",
      "['K62971431', 'K53737926', 'K37814297', 'K83405785', 'K10995081', 'K71103788', 'K82036761', 'K08255599', 'A19661776', 'K38436528', 'K89997465', 'A84481105', 'K35559145', 'K22482860', 'K21673112', 'K19352500', 'K06980535', 'K24219278', 'K89732114', 'K99121711', 'K54314721', 'K30652337', 'K49404994', 'K08619574', 'K72259270']\n",
      "%%%%%%%%%%%%%%%%%%\n"
     ]
    },
    {
     "data": {
      "text/plain": [
       "'../figs/Enriched_Drug_Classes.html'"
      ]
     },
     "execution_count": 10,
     "metadata": {},
     "output_type": "execute_result"
    }
   ],
   "source": [
    "specifics='Enriched_Drug_Classes'\n",
    "traces = []\n",
    "\n",
    "# Strong and Weak Drugs\n",
    "traces.append( go.Scatter3d(\n",
    "    x=viz_data[viz_data['Outcome'].isin(['Strong (80%)', 'Weak (50%)'])].coord1.tolist(),\n",
    "    y=viz_data[viz_data['Outcome'].isin(['Strong (80%)', 'Weak (50%)'])].coord2.tolist(),\n",
    "    z=viz_data[viz_data['Outcome'].isin(['Strong (80%)', 'Weak (50%)'])].coord3.tolist(),\n",
    "    mode='markers',\n",
    "    marker=dict(\n",
    "    opacity=0.3,\n",
    "    size=3,\n",
    "    color='rgb(72.0, 72.0, 72.0)'\n",
    "        ),\n",
    "    name=\"Strong (80%) & Weak (50%)\",\n",
    "    text=viz_data[viz_data['Outcome'].isin(['Strong (80%)', 'Weak (50%)'])].apply(make_label, axis=1),\n",
    "    hoverinfo='text'\n",
    "    ))\n",
    "\n",
    "\n",
    "count=0\n",
    "for c in drugclassification['Chemical Group']:\n",
    "    dfsel=viz_data[viz_data['truncated_broadid'].isin(drugclassification['Broad IDs'].iloc[count].split(','))]\n",
    "    \n",
    "    print('%%%%%%%%%%%%%%%%%%')\n",
    "    print(c)\n",
    "    print('Number of Drugs')\n",
    "    print(dfsel.shape[0])\n",
    "    print(drugclassification['Broad IDs'].iloc[count].split(','))\n",
    "    print('%%%%%%%%%%%%%%%%%%')\n",
    "    \n",
    "    count+=1\n",
    "    \n",
    "    traces.append( go.Scatter3d(\n",
    "        x=dfsel.coord1.tolist(),\n",
    "        y=dfsel.coord2.tolist(),\n",
    "        z=dfsel.coord3.tolist(),\n",
    "        mode='markers',\n",
    "        marker=dict(\n",
    "            opacity=0.3,\n",
    "            size=10,\n",
    "            color=cmapdictplotlyDC[c]\n",
    "        ),\n",
    "        name=c,\n",
    "        text=dfsel.apply(make_label, axis=1),\n",
    "        hoverinfo='text'\n",
    "    ))\n",
    "    \n",
    "layout = go.Layout(\n",
    "    title=specifics\n",
    ")\n",
    "\n",
    "fig = go.Figure(data=traces, layout=layout)\n",
    "plot(fig, filename = '../figs/'+specifics+'.html', auto_open=True)"
   ]
  },
  {
   "cell_type": "code",
   "execution_count": null,
   "metadata": {},
   "outputs": [],
   "source": []
  }
 ],
 "metadata": {
  "kernelspec": {
   "display_name": "Python 3",
   "language": "python",
   "name": "python3"
  },
  "language_info": {
   "codemirror_mode": {
    "name": "ipython",
    "version": 3
   },
   "file_extension": ".py",
   "mimetype": "text/x-python",
   "name": "python",
   "nbconvert_exporter": "python",
   "pygments_lexer": "ipython3",
   "version": "3.6.10"
  }
 },
 "nbformat": 4,
 "nbformat_minor": 4
}
